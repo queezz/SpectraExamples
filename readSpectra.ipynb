{
 "cells": [
  {
   "cell_type": "code",
   "execution_count": 1,
   "metadata": {},
   "outputs": [
    {
     "name": "stdout",
     "output_type": "stream",
     "text": [
      "Populating the interactive namespace from numpy and matplotlib\n"
     ]
    }
   ],
   "source": [
    "%pylab inline"
   ]
  },
  {
   "cell_type": "code",
   "execution_count": 2,
   "metadata": {},
   "outputs": [],
   "source": [
    "import pandas as pd\n",
    "import numpy as np\n",
    "import os\n",
    "from os.path import join"
   ]
  },
  {
   "cell_type": "code",
   "execution_count": 4,
   "metadata": {},
   "outputs": [
    {
     "data": {
      "text/plain": [
       "['.ipynb_checkpoints',\n",
       " '0306_01.txt',\n",
       " '0306_01_bg.txt',\n",
       " '0306_02.txt',\n",
       " '0306_02_bg.txt',\n",
       " '0306_03.txt',\n",
       " '0306_03_fil.txt',\n",
       " '0306_04.txt',\n",
       " '0306_05.txt',\n",
       " '0306_05_fil.txt',\n",
       " '実験20200306まとめ.txt']"
      ]
     },
     "execution_count": 4,
     "metadata": {},
     "output_type": "execute_result"
    }
   ],
   "source": [
    "bpth = './data'\n",
    "ls = sorted(os.listdir(bpth))\n",
    "ls"
   ]
  },
  {
   "cell_type": "code",
   "execution_count": 5,
   "metadata": {},
   "outputs": [
    {
     "data": {
      "text/plain": [
       "'./data/0306_05_fil.txt'"
      ]
     },
     "execution_count": 5,
     "metadata": {},
     "output_type": "execute_result"
    }
   ],
   "source": [
    "fp = ls[-2]\n",
    "fp = join(bpth,fp)\n",
    "fp"
   ]
  },
  {
   "cell_type": "code",
   "execution_count": 6,
   "metadata": {},
   "outputs": [
    {
     "data": {
      "text/html": [
       "<div>\n",
       "<style scoped>\n",
       "    .dataframe tbody tr th:only-of-type {\n",
       "        vertical-align: middle;\n",
       "    }\n",
       "\n",
       "    .dataframe tbody tr th {\n",
       "        vertical-align: top;\n",
       "    }\n",
       "\n",
       "    .dataframe thead th {\n",
       "        text-align: right;\n",
       "    }\n",
       "</style>\n",
       "<table border=\"1\" class=\"dataframe\">\n",
       "  <thead>\n",
       "    <tr style=\"text-align: right;\">\n",
       "      <th></th>\n",
       "      <th>Pixel</th>\n",
       "      <th>Wavelength</th>\n",
       "      <th>Wavenumber</th>\n",
       "      <th>Raman Shift</th>\n",
       "      <th>Dark</th>\n",
       "      <th>Reference</th>\n",
       "      <th>Raw data #1</th>\n",
       "      <th>Dark Subtracted #1</th>\n",
       "      <th>%TR #1</th>\n",
       "      <th>Absorbance #1</th>\n",
       "      <th>...</th>\n",
       "      <th>Absorbance #2</th>\n",
       "      <th>Raw data #3</th>\n",
       "      <th>Dark Subtracted #3</th>\n",
       "      <th>%TR #3</th>\n",
       "      <th>Absorbance #3</th>\n",
       "      <th>Lamp FitCurve</th>\n",
       "      <th>Irradiance Ratio</th>\n",
       "      <th>Irradiance_1(uW/cm^2/nm)</th>\n",
       "      <th>Irradiance_2(uW/cm^2/nm)</th>\n",
       "      <th>Irradiance_3(uW/cm^2/nm)</th>\n",
       "    </tr>\n",
       "  </thead>\n",
       "  <tbody>\n",
       "    <tr>\n",
       "      <th>0</th>\n",
       "      <td>0.0</td>\n",
       "      <td>NaN</td>\n",
       "      <td>NaN</td>\n",
       "      <td>NaN</td>\n",
       "      <td>0.0</td>\n",
       "      <td>65535.0</td>\n",
       "      <td>933.0</td>\n",
       "      <td>933.0</td>\n",
       "      <td>NaN</td>\n",
       "      <td>NaN</td>\n",
       "      <td>...</td>\n",
       "      <td>NaN</td>\n",
       "      <td>NaN</td>\n",
       "      <td>NaN</td>\n",
       "      <td>NaN</td>\n",
       "      <td>NaN</td>\n",
       "      <td>NaN</td>\n",
       "      <td>NaN</td>\n",
       "      <td>NaN</td>\n",
       "      <td>NaN</td>\n",
       "      <td>NaN</td>\n",
       "    </tr>\n",
       "    <tr>\n",
       "      <th>1</th>\n",
       "      <td>1.0</td>\n",
       "      <td>NaN</td>\n",
       "      <td>NaN</td>\n",
       "      <td>NaN</td>\n",
       "      <td>0.0</td>\n",
       "      <td>65535.0</td>\n",
       "      <td>933.0</td>\n",
       "      <td>933.0</td>\n",
       "      <td>NaN</td>\n",
       "      <td>NaN</td>\n",
       "      <td>...</td>\n",
       "      <td>NaN</td>\n",
       "      <td>NaN</td>\n",
       "      <td>NaN</td>\n",
       "      <td>NaN</td>\n",
       "      <td>NaN</td>\n",
       "      <td>NaN</td>\n",
       "      <td>NaN</td>\n",
       "      <td>NaN</td>\n",
       "      <td>NaN</td>\n",
       "      <td>NaN</td>\n",
       "    </tr>\n",
       "    <tr>\n",
       "      <th>2</th>\n",
       "      <td>2.0</td>\n",
       "      <td>NaN</td>\n",
       "      <td>NaN</td>\n",
       "      <td>NaN</td>\n",
       "      <td>0.0</td>\n",
       "      <td>65535.0</td>\n",
       "      <td>1047.0</td>\n",
       "      <td>1047.0</td>\n",
       "      <td>NaN</td>\n",
       "      <td>NaN</td>\n",
       "      <td>...</td>\n",
       "      <td>NaN</td>\n",
       "      <td>NaN</td>\n",
       "      <td>NaN</td>\n",
       "      <td>NaN</td>\n",
       "      <td>NaN</td>\n",
       "      <td>NaN</td>\n",
       "      <td>NaN</td>\n",
       "      <td>NaN</td>\n",
       "      <td>NaN</td>\n",
       "      <td>NaN</td>\n",
       "    </tr>\n",
       "    <tr>\n",
       "      <th>3</th>\n",
       "      <td>3.0</td>\n",
       "      <td>NaN</td>\n",
       "      <td>NaN</td>\n",
       "      <td>NaN</td>\n",
       "      <td>0.0</td>\n",
       "      <td>65535.0</td>\n",
       "      <td>1027.0</td>\n",
       "      <td>1027.0</td>\n",
       "      <td>NaN</td>\n",
       "      <td>NaN</td>\n",
       "      <td>...</td>\n",
       "      <td>NaN</td>\n",
       "      <td>NaN</td>\n",
       "      <td>NaN</td>\n",
       "      <td>NaN</td>\n",
       "      <td>NaN</td>\n",
       "      <td>NaN</td>\n",
       "      <td>NaN</td>\n",
       "      <td>NaN</td>\n",
       "      <td>NaN</td>\n",
       "      <td>NaN</td>\n",
       "    </tr>\n",
       "    <tr>\n",
       "      <th>4</th>\n",
       "      <td>4.0</td>\n",
       "      <td>NaN</td>\n",
       "      <td>NaN</td>\n",
       "      <td>NaN</td>\n",
       "      <td>0.0</td>\n",
       "      <td>65535.0</td>\n",
       "      <td>1005.0</td>\n",
       "      <td>1005.0</td>\n",
       "      <td>NaN</td>\n",
       "      <td>NaN</td>\n",
       "      <td>...</td>\n",
       "      <td>NaN</td>\n",
       "      <td>NaN</td>\n",
       "      <td>NaN</td>\n",
       "      <td>NaN</td>\n",
       "      <td>NaN</td>\n",
       "      <td>NaN</td>\n",
       "      <td>NaN</td>\n",
       "      <td>NaN</td>\n",
       "      <td>NaN</td>\n",
       "      <td>NaN</td>\n",
       "    </tr>\n",
       "  </tbody>\n",
       "</table>\n",
       "<p>5 rows × 23 columns</p>\n",
       "</div>"
      ],
      "text/plain": [
       "   Pixel  Wavelength  Wavenumber  Raman Shift  Dark  Reference  Raw data #1  \\\n",
       "0    0.0         NaN         NaN          NaN   0.0    65535.0        933.0   \n",
       "1    1.0         NaN         NaN          NaN   0.0    65535.0        933.0   \n",
       "2    2.0         NaN         NaN          NaN   0.0    65535.0       1047.0   \n",
       "3    3.0         NaN         NaN          NaN   0.0    65535.0       1027.0   \n",
       "4    4.0         NaN         NaN          NaN   0.0    65535.0       1005.0   \n",
       "\n",
       "   Dark Subtracted #1  %TR #1  Absorbance #1  ...  Absorbance #2  Raw data #3  \\\n",
       "0               933.0     NaN            NaN  ...            NaN          NaN   \n",
       "1               933.0     NaN            NaN  ...            NaN          NaN   \n",
       "2              1047.0     NaN            NaN  ...            NaN          NaN   \n",
       "3              1027.0     NaN            NaN  ...            NaN          NaN   \n",
       "4              1005.0     NaN            NaN  ...            NaN          NaN   \n",
       "\n",
       "   Dark Subtracted #3  %TR #3  Absorbance #3  Lamp FitCurve  Irradiance Ratio  \\\n",
       "0                 NaN     NaN            NaN            NaN               NaN   \n",
       "1                 NaN     NaN            NaN            NaN               NaN   \n",
       "2                 NaN     NaN            NaN            NaN               NaN   \n",
       "3                 NaN     NaN            NaN            NaN               NaN   \n",
       "4                 NaN     NaN            NaN            NaN               NaN   \n",
       "\n",
       "   Irradiance_1(uW/cm^2/nm)  Irradiance_2(uW/cm^2/nm)  \\\n",
       "0                       NaN                       NaN   \n",
       "1                       NaN                       NaN   \n",
       "2                       NaN                       NaN   \n",
       "3                       NaN                       NaN   \n",
       "4                       NaN                       NaN   \n",
       "\n",
       "   Irradiance_3(uW/cm^2/nm)  \n",
       "0                       NaN  \n",
       "1                       NaN  \n",
       "2                       NaN  \n",
       "3                       NaN  \n",
       "4                       NaN  \n",
       "\n",
       "[5 rows x 23 columns]"
      ]
     },
     "execution_count": 6,
     "metadata": {},
     "output_type": "execute_result"
    }
   ],
   "source": [
    "data = pd.read_csv(fp,skiprows=66,sep=';',na_values=['   ', ' '], dtype=float)\n",
    "data.head()"
   ]
  },
  {
   "cell_type": "code",
   "execution_count": 10,
   "metadata": {},
   "outputs": [],
   "source": [
    "%run tools.py # for eady plot tweaks"
   ]
  },
  {
   "cell_type": "code",
   "execution_count": 12,
   "metadata": {},
   "outputs": [
    {
     "data": {
      "image/png": "[encoded data removed]",
      "text/plain": [
       "<Figure size 432x288 with 1 Axes>"
      ]
     },
     "metadata": {
      "needs_background": "light"
     },
     "output_type": "display_data"
    }
   ],
   "source": [
    "font_setup(size=15)\n",
    "plot(data['Wavelength'],data['Raw data #1'])\n",
    "xlabel('wavelength, nm')\n",
    "ylabel('Intensity, a.u.')\n",
    "gritix()"
   ]
  },
  {
   "cell_type": "markdown",
   "metadata": {},
   "source": [
    "# Read file line by line\n",
    "to see header"
   ]
  },
  {
   "cell_type": "code",
   "execution_count": 35,
   "metadata": {},
   "outputs": [
    {
     "name": "stdout",
     "output_type": "stream",
     "text": [
      "0 \t File Version;BWSpec 3.24u_57\n",
      "1 \t Date;2020-03-06 20:01:32\n",
      "2 \t title;LNR\n",
      "3 \t model;BTC112\n",
      "4 \t c code;LNR\n",
      "5 \t operator;\n",
      "6 \t port1;0\n",
      "7 \t baud1;3\n",
      "8 \t pixel_start;0\n",
      "9 \t pixel_end;2047\n",
      "10 \t step;1\n",
      "11 \t units;1\n",
      "12 \t bkcolor;16777215\n",
      "13 \t show_mode;0\n",
      "14 \t data_mode;0\n",
      "15 \t pixel_mode;0\n",
      "16 \t intigration times;12000\n",
      "17 \t average number;1\n",
      "18 \t time_multiply;1\n",
      "19 \t spectrometer_type ;14\n",
      "20 \t yaxis;0\n",
      "21 \t yaxis_min;0\n",
      "22 \t yaxis_max;40000\n",
      "23 \t xaxis;0\n",
      "24 \t xaxis_min;1135\n",
      "25 \t xaxis_max;1210\n",
      "26 \t irrands_DispWLMin;100\n",
      "27 \t irrands_DispWLMax;1000\n",
      "28 \t yaxis_min_6;0\n",
      "29 \t yaxis_max_6;65535\n",
      "30 \t irradiance_unit;2\n",
      "31 \t coefs_a0;56.4727032153169\n",
      "32 \t coefs_a1;0.527519096310243\n",
      "33 \t coefs_a2;-4.78162174181729E-5\n",
      "34 \t coefs_a3;-2.53245126997529E-9\n",
      "35 \t coefs_b0;-128.921959967585\n",
      "36 \t coefs_b1;2.06327521902494\n",
      "37 \t coefs_b2;-0.000259814230350486\n",
      "38 \t coefs_b3;6.61070614724896E-7\n",
      "39 \t all_data_save;1\n",
      "40 \t select_option;-1\n",
      "41 \t interval_time;50\n",
      "42 \t pixel_num;2048\n",
      "43 \t sel_pixel_start;0\n",
      "44 \t sel_pixel_end;2047\n",
      "45 \t sel_pixel_delta;1\n",
      "46 \t dark_compensate;0\n",
      "47 \t dark_compensate_value_1;0\n",
      "48 \t dark_compensate_value_2;0\n",
      "49 \t dark_compensate_value_3;0\n",
      "50 \t monitor pixel_0;0\n",
      "51 \t monitor pixel_1;0\n",
      "52 \t monitor pixel_2;0\n",
      "53 \t monitor pixel_3;0\n",
      "54 \t monitor pixel_4;0\n",
      "55 \t monitor pixel_5;0\n",
      "56 \t vertical_select_flag;0\n",
      "57 \t vertical_line3;697\n",
      "58 \t vertical_line4;697\n",
      "59 \t vertical_line3_wv;450\n",
      "60 \t vertical_line4_wv;450\n",
      "61 \t vertical_line_flag;0\n",
      "62 \t vertical_line_ratio;0\n",
      "63 \t laser_wavelength;0\n",
      "64 \t overlay_js;0\n",
      "65 \t Relative Intensity Correction Flag;0\n",
      "66 \t Pixel;Wavelength;Wavenumber;Raman Shift;Dark;Reference;Raw data #1;Dark Subtracted #1;%TR #1;Absorbance #1;Raw data #2;Dark Subtracted #2;%TR #2;Absorbance #2;Raw data #3;Dark Subtracted #3;%TR #3;Absorbance #3;Lamp FitCurve;Irradiance Ratio;Irradiance_1(uW/cm^2/nm);Irradiance_2(uW/cm^2/nm);Irradiance_3(uW/cm^2/nm)\n",
      "67 \t 0;   ;   ;   ;0.0000;65535.0000;933.0000;933.0000;   ;   ;   ;   ;   ;   ;   ;   ;   ;   ;   ;   ;   ;   ;\n"
     ]
    }
   ],
   "source": [
    "with open(fp,'r') as f:\n",
    "    for i in range(68):\n",
    "        l = f.readline().strip()\n",
    "        print(i,'\\t',l)"
   ]
  }
 ],
 "metadata": {
  "kernelspec": {
   "display_name": "Python 3",
   "language": "python",
   "name": "python3"
  },
  "language_info": {
   "codemirror_mode": {
    "name": "ipython",
    "version": 3
   },
   "file_extension": ".py",
   "mimetype": "text/x-python",
   "name": "python",
   "nbconvert_exporter": "python",
   "pygments_lexer": "ipython3",
   "version": "3.8.0"
  }
 },
 "nbformat": 4,
 "nbformat_minor": 4
}
