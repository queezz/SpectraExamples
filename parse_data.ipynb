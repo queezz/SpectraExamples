{
 "cells": [
  {
   "cell_type": "code",
   "execution_count": 3,
   "metadata": {},
   "outputs": [],
   "source": [
    "import pandas as pd\n",
    "import numpy as np\n",
    "import os"
   ]
  },
  {
   "cell_type": "markdown",
   "metadata": {},
   "source": [
    "### フォルダの生成\n",
    "### 一回だけ行ってください\n",
    "\n",
    "- source\n",
    "    - data\n",
    "    - master\n",
    "    - result \n",
    "    - usable_data\n",
    "    - experiment.csv\n",
    "    - 分光器較正係数.xlsx"
   ]
  },
  {
   "cell_type": "code",
   "execution_count": 4,
   "metadata": {},
   "outputs": [],
   "source": [
    "os.makedirs(\"./source/data\")\n",
    "os.makedirs(\"./source/master\")\n",
    "os.makedirs(\"./source/result\")\n",
    "os.makedirs(\"./source/usable_data\")"
   ]
  },
  {
   "cell_type": "code",
   "execution_count": 13,
   "metadata": {},
   "outputs": [],
   "source": [
    "# 次のことをしてください\n",
    "\n",
    "# masterに '実験20191024_1.txt' ~　'実験20191024_16.txt' をコピーしてください\n",
    "# masterに　'実験20191024まとめ.txt' という名前でまとめテキスト(露光時間が載っているもの)をコピーしてください\n",
    "\n",
    "# sourceに '分光器較正係数.xlsx' をコピーしてください\n",
    "# sourceに 'experiment.csv' をコピーしてください"
   ]
  },
  {
   "cell_type": "markdown",
   "metadata": {},
   "source": [
    "フォルダ構成\n",
    "\n",
    "- bunko.ipynb\n",
    "- parse_data.ipynb\n",
    "- source\n",
    "    - master\n",
    "        - 実験20191024_1.txt\n",
    "        - 実験20191024_2.txt\n",
    "        - 実験20191024_3.txt\n",
    "        - 実験20191024_4.txt\n",
    "        - 実験20191024_5.txt\n",
    "        - 実験20191024_6.txt\n",
    "        - 実験20191024_7.txt\n",
    "        - 実験20191024_8.txt\n",
    "        - 実験20191024_9.txt\n",
    "        - 実験20191024_10.txt\n",
    "        - 実験20191024_11.txt\n",
    "        - 実験20191024_12.txt\n",
    "        - 実験20191024_13.txt\n",
    "        - 実験20191024_14.txt\n",
    "        - 実験20191024_15.txt\n",
    "        - 実験20191024_16.txt\n",
    "    - data\n",
    "    - result\n",
    "    - usable_data\n",
    "    - experiment.csv\n",
    "    - 分光器較正係数.xslx\n",
    "\n",
    "となっていることを確認してから次を実行してください"
   ]
  },
  {
   "cell_type": "code",
   "execution_count": 17,
   "metadata": {},
   "outputs": [],
   "source": [
    "for i in range(1, 17):\n",
    "    df = pd.read_table('./source/master/実験20191024_{}.txt'.format(i), sep=';', header=66, na_values=['   ', ' '], dtype=float)\n",
    "    # i=1~16について，実験の生データのうち，必要な部分（66行目以降）を読み込む\n",
    "    df.to_csv( './source/data/実験{}.csv'.format(i), index=False)\n",
    "    # i=1~16について，実験iの名前でcsvファイルを作成し，source/data内に保存\n",
    "    # 生データ（txt形式）をcsv形式に変換した．"
   ]
  },
  {
   "cell_type": "code",
   "execution_count": 8,
   "metadata": {},
   "outputs": [],
   "source": [
    "f = pd.read_csv('./source/experiment.csv')\n",
    "# experiment.cxv（元のデータの名前（実験3とか）と最終的に使うデータの名前（exp1とかexp1_backとか）の紐づけを書いた表）を読み込む\n",
    "for index, item in f.iterrows():　# iterrowsは行ごとに処理を行う関数\n",
    "    ff = pd.read_csv('./source/data/{}.csv'.format(item['実験名']), dtype=float)\n",
    "    #\n",
    "    ff.to_csv('./source/usable_data/{}.csv'.format(item['データ名']), index=False)"
   ]
  },
  {
   "cell_type": "code",
   "execution_count": 9,
   "metadata": {},
   "outputs": [],
   "source": [
    "f = pd.read_table('./source/master/実験20191024まとめ.txt', sep=\"\\t\", encoding=\"shift-jis\")\n",
    "f.to_csv('./source/data/まとめ.csv', index=False)"
   ]
  }
 ],
 "metadata": {
  "kernelspec": {
   "display_name": "Python 3",
   "language": "python",
   "name": "python3"
  },
  "language_info": {
   "codemirror_mode": {
    "name": "ipython",
    "version": 3
   },
   "file_extension": ".py",
   "mimetype": "text/x-python",
   "name": "python",
   "nbconvert_exporter": "python",
   "pygments_lexer": "ipython3",
   "version": "3.8.0"
  }
 },
 "nbformat": 4,
 "nbformat_minor": 4
}
